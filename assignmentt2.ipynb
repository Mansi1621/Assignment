{
 "cells": [
  {
   "cell_type": "code",
   "execution_count": 1,
   "metadata": {},
   "outputs": [],
   "source": [
    "#  Q.1  Converting an Integer into Decimals ?\n",
    "# Q.2  Converting an String of Integers into Decimals ?\n",
    "# Q.3  Reversing a string using an Extended Slicing Technique ? \n",
    "# Q.4  Counting the number of occurances of a character in a string ?\n",
    "# Q.5  Find the maximum and minimum number in a list ?\n",
    "# Q.6  Find the middle element in a list ? \n",
    "# Q.7  Converting a list into a string ?\n",
    "# Q.8  Adding two list elements together ?"
   ]
  },
  {
   "cell_type": "markdown",
   "metadata": {},
   "source": [
    "# Q.1 Converting an Integer into Decimals ?"
   ]
  },
  {
   "cell_type": "code",
   "execution_count": 2,
   "metadata": {},
   "outputs": [
    {
     "name": "stdout",
     "output_type": "stream",
     "text": [
      "Enter the Integer Number :56\n",
      "Converted  Decimal Number is : 56.0\n"
     ]
    }
   ],
   "source": [
    "int_value = int(input(\"Enter the Integer Number :\"))\n",
    "dec_value = int_value / 1.0  \n",
    "print(\"Converted  Decimal Number is :\",dec_value)"
   ]
  },
  {
   "cell_type": "markdown",
   "metadata": {},
   "source": [
    "# Q.2 Converting an String of Integers into Decimals ?"
   ]
  },
  {
   "cell_type": "code",
   "execution_count": 3,
   "metadata": {},
   "outputs": [
    {
     "data": {
      "text/plain": [
       "261067.0"
      ]
     },
     "execution_count": 3,
     "metadata": {},
     "output_type": "execute_result"
    }
   ],
   "source": [
    "string_of_int = \"261067\"\n",
    "deci_value = float(string_of_int)\n",
    "deci_value"
   ]
  },
  {
   "cell_type": "markdown",
   "metadata": {},
   "source": [
    "# Q.3 Reversing a string using an Extended Slicing Technique ?"
   ]
  },
  {
   "cell_type": "code",
   "execution_count": 4,
   "metadata": {},
   "outputs": [
    {
     "name": "stdout",
     "output_type": "stream",
     "text": [
      "Enter any string: 54321\n",
      "12345\n"
     ]
    }
   ],
   "source": [
    "a = input(\"Enter any string: \")\n",
    "reverse = a[::-1]\n",
    "print(reverse)"
   ]
  },
  {
   "cell_type": "markdown",
   "metadata": {},
   "source": [
    "# Q.4 Counting the number of occurances of a character in a string ?"
   ]
  },
  {
   "cell_type": "code",
   "execution_count": 7,
   "metadata": {},
   "outputs": [
    {
     "name": "stdout",
     "output_type": "stream",
     "text": [
      "Enter a string: nayan\n",
      "Enter a character to count: a\n",
      "The character 'a' occurs 2 times in the string.\n"
     ]
    }
   ],
   "source": [
    "a = input(\"Enter a string: \")\n",
    "c = input(\"Enter a character to count: \")\n",
    "occurrences = a.count(c)\n",
    "print(f\"The character '{c}' occurs {occurrences} times in the string.\")"
   ]
  },
  {
   "cell_type": "markdown",
   "metadata": {},
   "source": [
    "# Q.5 Find the maximum and minimum number in a list ?"
   ]
  },
  {
   "cell_type": "code",
   "execution_count": 11,
   "metadata": {},
   "outputs": [
    {
     "name": "stdout",
     "output_type": "stream",
     "text": [
      "Maximum number in a list is: 991\n",
      "Minium number in a list is: 45\n"
     ]
    }
   ],
   "source": [
    "numbers = [45,86,991,145,860,426,78]\n",
    "max_numbers = max(numbers)\n",
    "min_numbers = min(numbers)\n",
    "print(\"Maximum number in a list is:\",max_numbers)\n",
    "print(\"Minium number in a list is:\",min_numbers)"
   ]
  },
  {
   "cell_type": "markdown",
   "metadata": {},
   "source": [
    "# Q.6 Find the middle element in a list ?"
   ]
  },
  {
   "cell_type": "code",
   "execution_count": 12,
   "metadata": {},
   "outputs": [
    {
     "data": {
      "text/plain": [
       "96"
      ]
     },
     "execution_count": 12,
     "metadata": {},
     "output_type": "execute_result"
    }
   ],
   "source": [
    "input_list = [93,94,95,96,97,98,99]\n",
    "def Middle(input_list):\n",
    "    middle = float(len(input_list))/2\n",
    "    if middle % 2 != 0:\n",
    "        return input_list[int(middle - .5)]\n",
    "    else:\n",
    "        return (input_list[int(middle)], input_list[int(middle-1)])\n",
    "Middle(input_list)"
   ]
  },
  {
   "cell_type": "markdown",
   "metadata": {},
   "source": [
    "# Q.7 Converting a list into a string?"
   ]
  },
  {
   "cell_type": "code",
   "execution_count": 13,
   "metadata": {},
   "outputs": [
    {
     "name": "stdout",
     "output_type": "stream",
     "text": [
      "Converted a List into a String :  lipstick eyeliner mascara\n"
     ]
    }
   ],
   "source": [
    "my_list = ['lipstick', 'eyeliner', 'mascara']\n",
    "result = ' '.join(my_list)\n",
    "print(\"Converted a List into a String : \",result)"
   ]
  },
  {
   "cell_type": "markdown",
   "metadata": {},
   "source": [
    "# Q.8 Adding two list elements together ?"
   ]
  },
  {
   "cell_type": "code",
   "execution_count": 14,
   "metadata": {},
   "outputs": [
    {
     "name": "stdout",
     "output_type": "stream",
     "text": [
      "Results : [105, 107, 109]\n"
     ]
    }
   ],
   "source": [
    "list1 = [51, 52, 53]\n",
    "list2 = [54, 55, 56]\n",
    "addition = []\n",
    "for i in range(len(list1)):\n",
    "    addition.append(list1[i] + list2[i])\n",
    "print(\"Results :\", addition)"
   ]
  },
  {
   "cell_type": "code",
   "execution_count": null,
   "metadata": {},
   "outputs": [],
   "source": []
  }
 ],
 "metadata": {
  "kernelspec": {
   "display_name": "Python 3",
   "language": "python",
   "name": "python3"
  },
  "language_info": {
   "codemirror_mode": {
    "name": "ipython",
    "version": 3
   },
   "file_extension": ".py",
   "mimetype": "text/x-python",
   "name": "python",
   "nbconvert_exporter": "python",
   "pygments_lexer": "ipython3",
   "version": "3.8.5"
  }
 },
 "nbformat": 4,
 "nbformat_minor": 4
}
