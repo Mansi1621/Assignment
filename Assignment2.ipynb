{
 "cells": [
  {
   "cell_type": "markdown",
   "metadata": {},
   "source": [
    "# Q.1 Write a program to check given number is even or odd ?"
   ]
  },
  {
   "cell_type": "code",
   "execution_count": 1,
   "metadata": {},
   "outputs": [
    {
     "name": "stdout",
     "output_type": "stream",
     "text": [
      "Enter the number 9\n",
      "number is odd\n"
     ]
    }
   ],
   "source": [
    "num = int(input(\"Enter the number \"))\n",
    "if(num %2==0):\n",
    "    print(\"Number is even\")\n",
    "else:\n",
    "    print(\"number is odd\")"
   ]
  },
  {
   "cell_type": "markdown",
   "metadata": {},
   "source": [
    "# Q.2 Write a program to check given character is a vowel or consonant ?"
   ]
  },
  {
   "cell_type": "code",
   "execution_count": 2,
   "metadata": {},
   "outputs": [
    {
     "name": "stdout",
     "output_type": "stream",
     "text": [
      "enter a character:i\n",
      "character is vowel\n"
     ]
    }
   ],
   "source": [
    "char=input(\"enter a character:\")\n",
    "if(char in ['a','e','i','o','u','A','E','I','O','U']):\n",
    "    print(\"character is vowel\")\n",
    "else:\n",
    "    print(\"character is consonant\")"
   ]
  },
  {
   "cell_type": "markdown",
   "metadata": {},
   "source": [
    "# Q.3 Write a program to count vowels and consonants in the string ?"
   ]
  },
  {
   "cell_type": "code",
   "execution_count": 3,
   "metadata": {},
   "outputs": [
    {
     "name": "stdout",
     "output_type": "stream",
     "text": [
      "enter your string:bhokardole\n",
      "Number of vowels: 4\n",
      "Number of consonants: 6\n"
     ]
    }
   ],
   "source": [
    "string=input(\"enter your string:\")\n",
    "vowels = 0\n",
    "consonants = 0\n",
    "string = string.lower()\n",
    "for char in string:\n",
    "    if char in ['a', 'e', 'i', 'o', 'u']:\n",
    "        vowels += 1\n",
    "    else:\n",
    "        consonants += 1\n",
    "\n",
    "print(\"Number of vowels:\", vowels)\n",
    "print(\"Number of consonants:\", consonants)"
   ]
  },
  {
   "cell_type": "markdown",
   "metadata": {},
   "source": [
    "# Q.4 Write a program to remove spaces from string without inbuilt function ?"
   ]
  },
  {
   "cell_type": "code",
   "execution_count": 5,
   "metadata": {},
   "outputs": [
    {
     "name": "stdout",
     "output_type": "stream",
     "text": [
      "Enter a String : mansi hemant bhokardole\n",
      "String after removing the spaces : mansihemantbhokardole\n"
     ]
    }
   ],
   "source": [
    "#taking input from the user\n",
    "string = input(\"Enter a String : \")\n",
    "result=''\n",
    "#iterating the string\n",
    "for i in string:\n",
    "    #if the character is not a space\n",
    "    if i!=' ':\n",
    "        result += i\n",
    "print(\"String after removing the spaces :\",result)"
   ]
  },
  {
   "cell_type": "code",
   "execution_count": null,
   "metadata": {},
   "outputs": [],
   "source": []
  }
 ],
 "metadata": {
  "kernelspec": {
   "display_name": "Python 3",
   "language": "python",
   "name": "python3"
  },
  "language_info": {
   "codemirror_mode": {
    "name": "ipython",
    "version": 3
   },
   "file_extension": ".py",
   "mimetype": "text/x-python",
   "name": "python",
   "nbconvert_exporter": "python",
   "pygments_lexer": "ipython3",
   "version": "3.8.5"
  }
 },
 "nbformat": 4,
 "nbformat_minor": 4
}
